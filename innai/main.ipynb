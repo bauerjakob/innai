{
 "cells": [
  {
   "cell_type": "code",
   "execution_count": 14,
   "id": "initial_id",
   "metadata": {
    "collapsed": true,
    "ExecuteTime": {
     "end_time": "2023-10-22T20:27:43.881191Z",
     "start_time": "2023-10-22T20:27:43.873504Z"
    }
   },
   "outputs": [],
   "source": [
    "from InnAiClient.Dtos.InnAiDataItemDto import InnAiDataItemDto\n",
    "from InnAiClient.InnAiClient import InnAiClient\n",
    "import numpy as np\n",
    "import pandas as pd"
   ]
  },
  {
   "cell_type": "code",
   "execution_count": 15,
   "outputs": [],
   "source": [
    "def LoadData() -> np.array:\n",
    "    client = InnAiClient(\"http://localhost:5294\")\n",
    "    data = client.GetData(50)\n",
    "    return np.array(data)"
   ],
   "metadata": {
    "collapsed": false,
    "ExecuteTime": {
     "end_time": "2023-10-22T20:27:45.148630Z",
     "start_time": "2023-10-22T20:27:45.142658Z"
    }
   },
   "id": "36d1e963b839e86b"
  },
  {
   "cell_type": "code",
   "execution_count": 17,
   "outputs": [
    {
     "data": {
      "text/plain": "               Timestamp  Level                   ImageId\n0   2023-10-22T20:10:00Z    134  653583f06b7108d92c6b4ed8\n1   2023-10-22T20:00:00Z    134  653581986b7108d92c6b4ed6\n2   2023-10-22T19:50:00Z    134  65357f406b7108d92c6b4ed5\n3   2023-10-22T19:40:00Z    134  65357cae6b7108d92c6b4eca\n4   2023-10-22T19:30:00Z    135  65357cae6b7108d92c6b4ecb\n5   2023-10-22T19:20:00Z    135  65357cae6b7108d92c6b4ecc\n6   2023-10-22T19:10:00Z    135  65357cae6b7108d92c6b4ecd\n7   2023-10-22T19:00:00Z    135  65357cae6b7108d92c6b4ece\n8   2023-10-22T18:50:00Z    135  65357cae6b7108d92c6b4ecf\n9   2023-10-22T18:40:00Z    135  65357cae6b7108d92c6b4ed0\n10  2023-10-22T18:30:00Z    135  65357cae6b7108d92c6b4ed1\n11  2023-10-22T18:20:00Z    135  65357cae6b7108d92c6b4ed2\n12  2023-10-22T18:10:00Z    135  65357cae6b7108d92c6b4ed3\n13  2023-10-22T18:00:00Z    135  65357cae6b7108d92c6b4ed4\n14  2023-10-22T17:50:00Z    135  653563206b7108d92c6b4ec7\n15  2023-10-22T17:40:00Z    136  653560c86b7108d92c6b4ec6\n16  2023-10-22T17:30:00Z    136  65355e706b7108d92c6b4ec4\n17  2023-10-22T17:20:00Z    136  65355c186b7108d92c6b4ec3\n18  2023-10-22T17:10:00Z    136  653559c26b7108d92c6b4eb6\n19  2023-10-22T17:00:00Z    136  653559c26b7108d92c6b4eb7\n20  2023-10-22T16:50:00Z    138  653559c26b7108d92c6b4eb8\n21  2023-10-22T16:40:00Z    138  653559c26b7108d92c6b4eb9\n22  2023-10-22T16:30:00Z    138  653559c26b7108d92c6b4eba\n23  2023-10-22T16:20:00Z    138  653559c26b7108d92c6b4ebb\n24  2023-10-22T16:10:00Z    138  653559c26b7108d92c6b4ebc\n25  2023-10-22T16:00:00Z    138  653559c26b7108d92c6b4ebd\n26  2023-10-22T15:50:00Z    138  653559c26b7108d92c6b4ebe\n27  2023-10-22T15:40:00Z    140  653559c26b7108d92c6b4ebf\n28  2023-10-22T15:30:00Z    140  653559c26b7108d92c6b4ec0\n29  2023-10-22T15:20:00Z    140  653559c26b7108d92c6b4ec1\n30  2023-10-22T15:10:00Z    140  653559c26b7108d92c6b4ec2\n31  2023-10-22T14:00:00Z    142  65352b386c1ce8020174150d\n32  2023-10-22T13:50:00Z    143  653528e46c1ce8020174150b\n33  2023-10-22T13:40:00Z    143  653526826c1ce8020174150a\n34  2023-10-22T13:30:00Z    143  6535242d6c1ce80201741509\n35  2023-10-22T13:20:00Z    144  653521d76c1ce80201741508\n36  2023-10-22T13:10:00Z    144  653520116c1ce80201741505\n37  2023-10-22T13:00:00Z    144  653520116c1ce80201741506\n38  2023-10-22T12:50:00Z    145  653520116c1ce80201741507\n39  2023-10-22T12:40:00Z    145  653518b86c1ce80201741501\n40  2023-10-22T12:30:00Z    145  653518b86c1ce80201741502\n41  2023-10-22T12:20:00Z    145  653518b86c1ce80201741503\n42  2023-10-22T12:10:00Z    145  653518b86c1ce80201741504\n43  2023-10-22T12:00:00Z    145  6535107a6c1ce802017414fe",
      "text/html": "<div>\n<style scoped>\n    .dataframe tbody tr th:only-of-type {\n        vertical-align: middle;\n    }\n\n    .dataframe tbody tr th {\n        vertical-align: top;\n    }\n\n    .dataframe thead th {\n        text-align: right;\n    }\n</style>\n<table border=\"1\" class=\"dataframe\">\n  <thead>\n    <tr style=\"text-align: right;\">\n      <th></th>\n      <th>Timestamp</th>\n      <th>Level</th>\n      <th>ImageId</th>\n    </tr>\n  </thead>\n  <tbody>\n    <tr>\n      <th>0</th>\n      <td>2023-10-22T20:10:00Z</td>\n      <td>134</td>\n      <td>653583f06b7108d92c6b4ed8</td>\n    </tr>\n    <tr>\n      <th>1</th>\n      <td>2023-10-22T20:00:00Z</td>\n      <td>134</td>\n      <td>653581986b7108d92c6b4ed6</td>\n    </tr>\n    <tr>\n      <th>2</th>\n      <td>2023-10-22T19:50:00Z</td>\n      <td>134</td>\n      <td>65357f406b7108d92c6b4ed5</td>\n    </tr>\n    <tr>\n      <th>3</th>\n      <td>2023-10-22T19:40:00Z</td>\n      <td>134</td>\n      <td>65357cae6b7108d92c6b4eca</td>\n    </tr>\n    <tr>\n      <th>4</th>\n      <td>2023-10-22T19:30:00Z</td>\n      <td>135</td>\n      <td>65357cae6b7108d92c6b4ecb</td>\n    </tr>\n    <tr>\n      <th>5</th>\n      <td>2023-10-22T19:20:00Z</td>\n      <td>135</td>\n      <td>65357cae6b7108d92c6b4ecc</td>\n    </tr>\n    <tr>\n      <th>6</th>\n      <td>2023-10-22T19:10:00Z</td>\n      <td>135</td>\n      <td>65357cae6b7108d92c6b4ecd</td>\n    </tr>\n    <tr>\n      <th>7</th>\n      <td>2023-10-22T19:00:00Z</td>\n      <td>135</td>\n      <td>65357cae6b7108d92c6b4ece</td>\n    </tr>\n    <tr>\n      <th>8</th>\n      <td>2023-10-22T18:50:00Z</td>\n      <td>135</td>\n      <td>65357cae6b7108d92c6b4ecf</td>\n    </tr>\n    <tr>\n      <th>9</th>\n      <td>2023-10-22T18:40:00Z</td>\n      <td>135</td>\n      <td>65357cae6b7108d92c6b4ed0</td>\n    </tr>\n    <tr>\n      <th>10</th>\n      <td>2023-10-22T18:30:00Z</td>\n      <td>135</td>\n      <td>65357cae6b7108d92c6b4ed1</td>\n    </tr>\n    <tr>\n      <th>11</th>\n      <td>2023-10-22T18:20:00Z</td>\n      <td>135</td>\n      <td>65357cae6b7108d92c6b4ed2</td>\n    </tr>\n    <tr>\n      <th>12</th>\n      <td>2023-10-22T18:10:00Z</td>\n      <td>135</td>\n      <td>65357cae6b7108d92c6b4ed3</td>\n    </tr>\n    <tr>\n      <th>13</th>\n      <td>2023-10-22T18:00:00Z</td>\n      <td>135</td>\n      <td>65357cae6b7108d92c6b4ed4</td>\n    </tr>\n    <tr>\n      <th>14</th>\n      <td>2023-10-22T17:50:00Z</td>\n      <td>135</td>\n      <td>653563206b7108d92c6b4ec7</td>\n    </tr>\n    <tr>\n      <th>15</th>\n      <td>2023-10-22T17:40:00Z</td>\n      <td>136</td>\n      <td>653560c86b7108d92c6b4ec6</td>\n    </tr>\n    <tr>\n      <th>16</th>\n      <td>2023-10-22T17:30:00Z</td>\n      <td>136</td>\n      <td>65355e706b7108d92c6b4ec4</td>\n    </tr>\n    <tr>\n      <th>17</th>\n      <td>2023-10-22T17:20:00Z</td>\n      <td>136</td>\n      <td>65355c186b7108d92c6b4ec3</td>\n    </tr>\n    <tr>\n      <th>18</th>\n      <td>2023-10-22T17:10:00Z</td>\n      <td>136</td>\n      <td>653559c26b7108d92c6b4eb6</td>\n    </tr>\n    <tr>\n      <th>19</th>\n      <td>2023-10-22T17:00:00Z</td>\n      <td>136</td>\n      <td>653559c26b7108d92c6b4eb7</td>\n    </tr>\n    <tr>\n      <th>20</th>\n      <td>2023-10-22T16:50:00Z</td>\n      <td>138</td>\n      <td>653559c26b7108d92c6b4eb8</td>\n    </tr>\n    <tr>\n      <th>21</th>\n      <td>2023-10-22T16:40:00Z</td>\n      <td>138</td>\n      <td>653559c26b7108d92c6b4eb9</td>\n    </tr>\n    <tr>\n      <th>22</th>\n      <td>2023-10-22T16:30:00Z</td>\n      <td>138</td>\n      <td>653559c26b7108d92c6b4eba</td>\n    </tr>\n    <tr>\n      <th>23</th>\n      <td>2023-10-22T16:20:00Z</td>\n      <td>138</td>\n      <td>653559c26b7108d92c6b4ebb</td>\n    </tr>\n    <tr>\n      <th>24</th>\n      <td>2023-10-22T16:10:00Z</td>\n      <td>138</td>\n      <td>653559c26b7108d92c6b4ebc</td>\n    </tr>\n    <tr>\n      <th>25</th>\n      <td>2023-10-22T16:00:00Z</td>\n      <td>138</td>\n      <td>653559c26b7108d92c6b4ebd</td>\n    </tr>\n    <tr>\n      <th>26</th>\n      <td>2023-10-22T15:50:00Z</td>\n      <td>138</td>\n      <td>653559c26b7108d92c6b4ebe</td>\n    </tr>\n    <tr>\n      <th>27</th>\n      <td>2023-10-22T15:40:00Z</td>\n      <td>140</td>\n      <td>653559c26b7108d92c6b4ebf</td>\n    </tr>\n    <tr>\n      <th>28</th>\n      <td>2023-10-22T15:30:00Z</td>\n      <td>140</td>\n      <td>653559c26b7108d92c6b4ec0</td>\n    </tr>\n    <tr>\n      <th>29</th>\n      <td>2023-10-22T15:20:00Z</td>\n      <td>140</td>\n      <td>653559c26b7108d92c6b4ec1</td>\n    </tr>\n    <tr>\n      <th>30</th>\n      <td>2023-10-22T15:10:00Z</td>\n      <td>140</td>\n      <td>653559c26b7108d92c6b4ec2</td>\n    </tr>\n    <tr>\n      <th>31</th>\n      <td>2023-10-22T14:00:00Z</td>\n      <td>142</td>\n      <td>65352b386c1ce8020174150d</td>\n    </tr>\n    <tr>\n      <th>32</th>\n      <td>2023-10-22T13:50:00Z</td>\n      <td>143</td>\n      <td>653528e46c1ce8020174150b</td>\n    </tr>\n    <tr>\n      <th>33</th>\n      <td>2023-10-22T13:40:00Z</td>\n      <td>143</td>\n      <td>653526826c1ce8020174150a</td>\n    </tr>\n    <tr>\n      <th>34</th>\n      <td>2023-10-22T13:30:00Z</td>\n      <td>143</td>\n      <td>6535242d6c1ce80201741509</td>\n    </tr>\n    <tr>\n      <th>35</th>\n      <td>2023-10-22T13:20:00Z</td>\n      <td>144</td>\n      <td>653521d76c1ce80201741508</td>\n    </tr>\n    <tr>\n      <th>36</th>\n      <td>2023-10-22T13:10:00Z</td>\n      <td>144</td>\n      <td>653520116c1ce80201741505</td>\n    </tr>\n    <tr>\n      <th>37</th>\n      <td>2023-10-22T13:00:00Z</td>\n      <td>144</td>\n      <td>653520116c1ce80201741506</td>\n    </tr>\n    <tr>\n      <th>38</th>\n      <td>2023-10-22T12:50:00Z</td>\n      <td>145</td>\n      <td>653520116c1ce80201741507</td>\n    </tr>\n    <tr>\n      <th>39</th>\n      <td>2023-10-22T12:40:00Z</td>\n      <td>145</td>\n      <td>653518b86c1ce80201741501</td>\n    </tr>\n    <tr>\n      <th>40</th>\n      <td>2023-10-22T12:30:00Z</td>\n      <td>145</td>\n      <td>653518b86c1ce80201741502</td>\n    </tr>\n    <tr>\n      <th>41</th>\n      <td>2023-10-22T12:20:00Z</td>\n      <td>145</td>\n      <td>653518b86c1ce80201741503</td>\n    </tr>\n    <tr>\n      <th>42</th>\n      <td>2023-10-22T12:10:00Z</td>\n      <td>145</td>\n      <td>653518b86c1ce80201741504</td>\n    </tr>\n    <tr>\n      <th>43</th>\n      <td>2023-10-22T12:00:00Z</td>\n      <td>145</td>\n      <td>6535107a6c1ce802017414fe</td>\n    </tr>\n  </tbody>\n</table>\n</div>"
     },
     "execution_count": 17,
     "metadata": {},
     "output_type": "execute_result"
    }
   ],
   "source": [
    "data = LoadData()\n",
    "\n",
    "dataFrame = pd.DataFrame.from_records([x.__dict__ for x in data])"
   ],
   "metadata": {
    "collapsed": false,
    "ExecuteTime": {
     "end_time": "2023-10-22T20:28:43.446320Z",
     "start_time": "2023-10-22T20:28:43.323150Z"
    }
   },
   "id": "25067055e429b346"
  },
  {
   "cell_type": "code",
   "execution_count": null,
   "outputs": [],
   "source": [],
   "metadata": {
    "collapsed": false
   },
   "id": "cc71f121961ebaf5"
  }
 ],
 "metadata": {
  "kernelspec": {
   "display_name": "Python 3",
   "language": "python",
   "name": "python3"
  },
  "language_info": {
   "codemirror_mode": {
    "name": "ipython",
    "version": 2
   },
   "file_extension": ".py",
   "mimetype": "text/x-python",
   "name": "python",
   "nbconvert_exporter": "python",
   "pygments_lexer": "ipython2",
   "version": "2.7.6"
  }
 },
 "nbformat": 4,
 "nbformat_minor": 5
}
